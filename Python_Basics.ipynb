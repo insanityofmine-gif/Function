{
  "nbformat": 4,
  "nbformat_minor": 0,
  "metadata": {
    "colab": {
      "provenance": []
    },
    "kernelspec": {
      "name": "python3",
      "display_name": "Python 3"
    },
    "language_info": {
      "name": "python"
    }
  },
  "cells": [
    {
      "cell_type": "markdown",
      "source": [
        "# 1.\tWhat is Python, and why is it popular?\n",
        "-> Python is a high level, interpreted programming language that is known for being easy to learn, readable, understandable and versatile. It is popular because it is easy to start with, yet powerful enough for advanced projects. It can run on windows, macOS, Linux without major changes, it also contains large standard library, and it has simple and readable syntax.\n",
        "\n",
        "\n"
      ],
      "metadata": {
        "id": "rm7cBu_KoRMW"
      }
    },
    {
      "cell_type": "markdown",
      "source": [
        "# 2. What is an interpreter in Python?\n",
        "-> An interpreter in Python is a program that reads and executes Python code line by line, translating it into machine code that the computer can run. Or we can say that it is the engine that runs the Python code by processing it directly instead of compiling it first."
      ],
      "metadata": {
        "id": "DT0WxeH0o0Ip"
      }
    },
    {
      "cell_type": "markdown",
      "source": [
        "# 3. What are pre-defined keywords in Python?\n",
        "->  Pre-defined keywords are special words that Python has already reserved for its own use, so you cannot use them for naming your variables or functions. They are reserved words that have a special meaning in the Python language and are used to define its syntax and structure. They cannot be used as variable names, function names, or identifiers."
      ],
      "metadata": {
        "id": "hXofkETGo49K"
      }
    },
    {
      "cell_type": "markdown",
      "source": [
        "# 4.\tCan keywords be used as variable names?\n",
        "-> No, keywords cannot be used as variable names in Python.\n"
      ],
      "metadata": {
        "id": "PMlaxVKipCbd"
      }
    },
    {
      "cell_type": "markdown",
      "source": [
        "# 5.\tWhat is mutability in Python?\n",
        "-> In Python, mutability refers to whether an object’s value can be changed after it is created. It’s a fundamental concept that affects how variables behave, especially when passed to functions or stored in collections.\n"
      ],
      "metadata": {
        "id": "v-SHTam8pJNv"
      }
    },
    {
      "cell_type": "markdown",
      "source": [
        "# 6.\tWhy are lists mutable, but tuples are immutable?\n",
        "-> \tLists are mutable because Python is designed to let you change, add, or remove elements in a list after it is created. It stores references to objects in a dynamic array, which can be resized or modified in place. While Tuples are immutable because they are meant to be fixed collections of items, once created, their structure cannot be changed.\n"
      ],
      "metadata": {
        "id": "72W23yX9pPCE"
      }
    },
    {
      "cell_type": "markdown",
      "source": [
        "# 7.\tWhat is the difference between “==” and “is” operators in Python?\n",
        "-> \t“==” is a equality operator, it is used to compare the values of two objects, it returns True if values are same. while “is” is a identity operator, it is used to compare the memory address of two objects, it returns true only if both variables point to the exact same object in memory.\n"
      ],
      "metadata": {
        "id": "GCcrWIcIpV6H"
      }
    },
    {
      "cell_type": "markdown",
      "source": [
        "#8.  What are logical operators in Python?\n",
        "->\tLogical operators in Python are used to combine conditional statements and return a Boolean value (True or False) based on logical relationships.\n",
        "\n",
        "  The three logical operators are:\n",
        "#\tand → Returns True if both conditions are true.\n",
        "#\tor → Returns True if at least one condition is true.\n",
        "#\tnot → Returns the opposite of the condition’s Boolean value.\n"
      ],
      "metadata": {
        "id": "l0AlgtxbpbEC"
      }
    },
    {
      "cell_type": "markdown",
      "source": [
        "#9.\tWhat is type casting in Python?\n",
        "->\tType casting in Python is the process of converting a value from one data type to another. It changes the data type of a value, either automatically or manually.\n"
      ],
      "metadata": {
        "id": "fnPAvTzLpmqi"
      }
    },
    {
      "cell_type": "markdown",
      "source": [
        "#10.\tWhat is the difference between implicit and explicit type casting?\n",
        "\tImplicit Type Casting:\n",
        "Also called type conversion:\n",
        "\n",
        "->\tPerformed automatically by the Python interpreter.\n",
        "\n",
        "-> Happens when Python converts one data type to another without losing data and without requiring the programmer’s instruction.\n",
        "\n",
        "-> Example: Converting an integer to a float during an arithmetic operation.\n",
        "\n",
        "    Explicit Type Casting:\n",
        "Also called type casting.\n",
        "->\tPerformed manually by the programmer.\n",
        "\n",
        "-> Uses predefined functions like int(), float(), str(), list(), etc., to change the data type.\n",
        "\n",
        "-> Example: Converting a string containing numbers into an integer.\n",
        "\n"
      ],
      "metadata": {
        "id": "kQoTrlxFp9Em"
      }
    },
    {
      "cell_type": "markdown",
      "source": [
        "#11.\tWhat is the purpose of conditional statements in Python?\n",
        "->\tConditional statements are used to make decisions in a program by executing certain blocks of code only if a specific condition is true. It allows us to execute certain blocks of code based on whether a condition is true or false.\n",
        "\n",
        "There are three main types of conditional statements:\n",
        "\n",
        "->\tif statement\n",
        "\n",
        "->\tif-else statement\n",
        "\n",
        "->\tif-elif-else statement\n"
      ],
      "metadata": {
        "id": "zRrn3AWOqzhZ"
      }
    },
    {
      "cell_type": "markdown",
      "source": [
        "#12.\tHow does the elif statement work?\n",
        "\telif statement allows to check multiple conditions one after another. Python evaluates conditions from top to bottom, and the first condition that is true gets executed, skipping the rest.  For eg:\n",
        "\n",
        "#rating = int(input(\"Enter customer rating: \"))\n",
        "#if rating==5:\n",
        "   # print(\"Excellent service.\")\n",
        "#elif rating==4:\n",
        "   # print(\"Good experience.\")\n",
        "#elif rating==3:\n",
        "   # print(\"average.\")\n",
        "#else:\n",
        "   # print(\"We will work on improving ourself.\")\n",
        "\n"
      ],
      "metadata": {
        "id": "-VBgM3gJrCfP"
      }
    },
    {
      "cell_type": "markdown",
      "source": [
        "#13.\tWhat is the difference between for and while loops?\n",
        "->\tfor loops:\n",
        "\n",
        "->\tIt is used when you know in advance how many times you want to iterate.\n",
        "\n",
        "-> Typically these loops over a sequence (like a list, tuple, string, or range).\n",
        "\n",
        "-> Automatically moves to the next element in the sequence.\n",
        "\n",
        "-> \twhile loop:\n",
        "\n",
        "->\tIt is used when you do not know in advance how many times you need to iterate.\n",
        "\n",
        "->\tIt continues looping as long as the given condition is true.\n",
        "\n",
        "->\tRequires manually updating variables inside the loop to avoid infinite loops.\n",
        "\n",
        "# for loop\n",
        "#for i in range(5):\n",
        "#    print(i)   # Runs 5 times\n",
        "\n",
        "# while loop\n",
        "#count = 0\n",
        "#while count < 5:\n",
        " #   print(count)\n",
        " #   count += 1  # Must update manually\n"
      ],
      "metadata": {
        "id": "N_T-Tlt7rqGD"
      }
    },
    {
      "cell_type": "markdown",
      "source": [
        "#14. Describe a scenario where a while loop is more suitable than a for loop.\n",
        "-> When you don’t know in advance how many times the loop needs to run and the loop should continue until a certain condition becomes false.\n",
        "->\tExample – User login attempts:\n",
        "\n",
        "#password = \"python123\"\n",
        "#user_input = \"\"\n",
        "#while user_input != password:\n",
        "#    user_input = input(\"Enter password: \")\n",
        "#print(\"Access granted!\")\n",
        "# while loop is better because no one know how many attempts the user will take to enter the correct password.\n"
      ],
      "metadata": {
        "id": "k9irha3IrzVp"
      }
    },
    {
      "cell_type": "code",
      "source": [
        "#Q1. Write a Python program to print \"Hello, World!\n",
        "print (\"Hello world\")"
      ],
      "metadata": {
        "colab": {
          "base_uri": "https://localhost:8080/"
        },
        "id": "GfnXCU8Au0RI",
        "outputId": "da65e68b-cc8d-411c-dfb0-c2ebf50d6131"
      },
      "execution_count": null,
      "outputs": [
        {
          "output_type": "stream",
          "name": "stdout",
          "text": [
            "Hello world\n"
          ]
        }
      ]
    },
    {
      "cell_type": "code",
      "source": [
        "#Q2. Write a Python program that displays your name and age?\n",
        "name = input(\"Enter your name: \")\n",
        "age = int(input(\"Enter your age: \"))\n",
        "print(\"My name is:\", name)\n",
        "print(\"And I am \", age, \"years old\")"
      ],
      "metadata": {
        "colab": {
          "base_uri": "https://localhost:8080/"
        },
        "id": "UcdMBKqmwE-J",
        "outputId": "de25d7f0-9c5c-4c8d-c141-7fbabd869298"
      },
      "execution_count": null,
      "outputs": [
        {
          "output_type": "stream",
          "name": "stdout",
          "text": [
            "Enter your name: Sanjay Prakash\n",
            "Enter your age: 29\n",
            "My name is: Sanjay Prakash\n",
            "And I am  29 years old\n"
          ]
        }
      ]
    },
    {
      "cell_type": "code",
      "source": [
        "#Q3. Write code to print all the pre-defined keywords in Python using the keyword library?\n",
        "import keyword\n",
        "\n",
        "print(keyword.kwlist)"
      ],
      "metadata": {
        "id": "seVrQgddxVKi",
        "colab": {
          "base_uri": "https://localhost:8080/"
        },
        "outputId": "2ac5257e-a86f-47ad-feee-f79b87f07847"
      },
      "execution_count": 12,
      "outputs": [
        {
          "output_type": "stream",
          "name": "stdout",
          "text": [
            "['False', 'None', 'True', 'and', 'as', 'assert', 'async', 'await', 'break', 'class', 'continue', 'def', 'del', 'elif', 'else', 'except', 'finally', 'for', 'from', 'global', 'if', 'import', 'in', 'is', 'lambda', 'nonlocal', 'not', 'or', 'pass', 'raise', 'return', 'try', 'while', 'with', 'yield']\n"
          ]
        }
      ]
    },
    {
      "cell_type": "code",
      "source": [
        "#Q4. Write a program that checks if a given word is a Python keyword?\n",
        "\n",
        "word = input(\"Enter a word: \")\n",
        "if keyword.iskeyword(word):\n",
        "    print(word, \"is a Python keyword.\")\n",
        "else:\n",
        "    print(word, \"is not a Python keyword.\")"
      ],
      "metadata": {
        "colab": {
          "base_uri": "https://localhost:8080/"
        },
        "id": "TtN11qE3z7B3",
        "outputId": "5be3a4f8-cba4-4b6a-da54-e2460a0cc72b"
      },
      "execution_count": 14,
      "outputs": [
        {
          "output_type": "stream",
          "name": "stdout",
          "text": [
            "Enter a word: class\n",
            "class is a Python keyword.\n"
          ]
        }
      ]
    },
    {
      "cell_type": "code",
      "source": [
        "#Q5. Create a list and tuple in Python, and demonstrate how attempting to change an element works differently for each?\n",
        "\n",
        "# Create a list\n",
        "my_list = [1, 2, 3, 4, 5]\n",
        "print(\"Original list:\", my_list)\n",
        "\n",
        "# Attempt to change an element in the list\n",
        "my_list[2] = 10\n",
        "print(\"List after attempting to change an element:\", my_list)\n",
        "\n",
        "# Create a tuple\n",
        "my_tuple = (1, 2, 3, 4, 5)\n",
        "print(\"\\nOriginal tuple:\", my_tuple)\n",
        "\n",
        "# Attempt to change an element in the tuple\n",
        "try:\n",
        "  my_tuple[2] = 10\n",
        "except TypeError as e:\n",
        "  print(\"Error when attempting to change an element in the tuple:\", e)"
      ],
      "metadata": {
        "colab": {
          "base_uri": "https://localhost:8080/"
        },
        "id": "S6ysnwqT0nkg",
        "outputId": "3c9d1711-c9ad-4f2c-d521-5cd24a810c27"
      },
      "execution_count": 15,
      "outputs": [
        {
          "output_type": "stream",
          "name": "stdout",
          "text": [
            "Original list: [1, 2, 3, 4, 5]\n",
            "List after attempting to change an element: [1, 2, 10, 4, 5]\n",
            "\n",
            "Original tuple: (1, 2, 3, 4, 5)\n",
            "Error when attempting to change an element in the tuple: 'tuple' object does not support item assignment\n"
          ]
        }
      ]
    },
    {
      "cell_type": "code",
      "source": [
        "#Q6. Write a function to demonstrate the behavior of mutable and immutable arguments?\n",
        "\n",
        "def demonstrate_mutable_immutable(mutable_list, immutable_int):\n",
        "  \"\"\"\n",
        "  Demonstrates the behavior of mutable and immutable arguments.\n",
        "\n",
        "  Args:\n",
        "    mutable_list: A list (mutable).\n",
        "    immutable_int: An integer (immutable).\n",
        "  \"\"\"\n",
        "  print(\"Inside function - Before changes:\")\n",
        "  print(\"  mutable_list:\", mutable_list)\n",
        "  print(\"  immutable_int:\", immutable_int)\n",
        "\n",
        "\n",
        "  mutable_list.append(6)   # Modify the mutable argument (list)\n",
        "  mutable_list[0] = 99\n",
        "\n",
        "  # Attempt to modify the immutable argument (integer)\n",
        "  immutable_int = immutable_int + 1\n",
        "\n",
        "  print(\"Inside function - After changes:\")\n",
        "  print(\"  mutable_list:\", mutable_list)\n",
        "  print(\"  immutable_int:\", immutable_int)\n",
        "\n",
        "\n",
        "\n",
        "my_list = [1, 2, 3] # Mutable example (list)\n",
        "my_int = 10\n",
        "\n",
        "print(\"Outside function - Before calling:\")\n",
        "print(\"  my_list:\", my_list)\n",
        "print(\"  my_int:\", my_int)\n",
        "\n",
        "demonstrate_mutable_immutable(my_list, my_int)\n",
        "\n",
        "print(\"Outside function - After calling:\")\n",
        "print(\"  my_list:\", my_list) # Changes to the list inside the function persist\n",
        "print(\"  my_int:\", my_int)   # Changes to the integer inside the function do not persist"
      ],
      "metadata": {
        "colab": {
          "base_uri": "https://localhost:8080/"
        },
        "id": "D1ogB9Zj1Gj-",
        "outputId": "e16b8a96-ede8-4c0b-fefb-3152666e008e"
      },
      "execution_count": 16,
      "outputs": [
        {
          "output_type": "stream",
          "name": "stdout",
          "text": [
            "Outside function - Before calling:\n",
            "  my_list: [1, 2, 3]\n",
            "  my_int: 10\n",
            "Inside function - Before changes:\n",
            "  mutable_list: [1, 2, 3]\n",
            "  immutable_int: 10\n",
            "Inside function - After changes:\n",
            "  mutable_list: [99, 2, 3, 6]\n",
            "  immutable_int: 11\n",
            "Outside function - After calling:\n",
            "  my_list: [99, 2, 3, 6]\n",
            "  my_int: 10\n"
          ]
        }
      ]
    },
    {
      "cell_type": "code",
      "source": [
        "#Q7. Write a program that performs basic arithmetic operations on two user-input numbers?\n",
        "\n",
        "num1_str = input(\"Enter the first number: \")\n",
        "num2_str = input(\"Enter the second number: \")\n",
        "\n",
        "# Convert input to numbers\n",
        "try:\n",
        "  num1 = float(num1_str)\n",
        "  num2 = float(num2_str)\n",
        "\n",
        "  sum_result = num1 + num2\n",
        "  difference_result = num1 - num2\n",
        "  product_result = num1 * num2\n",
        "\n",
        "  if num2 != 0:\n",
        "    division_result = num1 / num2\n",
        "    print(f\"\\nResults:\")\n",
        "    print(f\"{num1} + {num2} = {sum_result}\")\n",
        "    print(f\"{num1} - {num2} = {difference_result}\")\n",
        "    print(f\"{num1} * {num2} = {product_result}\")\n",
        "    print(f\"{num1} / {num2} = {division_result}\")\n",
        "  else:\n",
        "    print(\"\\nCannot perform division by zero.\")\n",
        "\n",
        "except ValueError:\n",
        "  print(\"Invalid input. Please enter valid numbers.\")\n"
      ],
      "metadata": {
        "colab": {
          "base_uri": "https://localhost:8080/"
        },
        "id": "FJqpBGkE1LMI",
        "outputId": "1eb6377a-6c39-40b7-8673-97203f773fdf"
      },
      "execution_count": 18,
      "outputs": [
        {
          "output_type": "stream",
          "name": "stdout",
          "text": [
            "Enter the first number: 20\n",
            "Enter the second number: 16\n",
            "\n",
            "Results:\n",
            "20.0 + 16.0 = 36.0\n",
            "20.0 - 16.0 = 4.0\n",
            "20.0 * 16.0 = 320.0\n",
            "20.0 / 16.0 = 1.25\n"
          ]
        }
      ]
    },
    {
      "cell_type": "code",
      "source": [
        "#Q8. Write a program to demonstrate the use of logical operators?\n",
        "\n",
        "num1 = 20\n",
        "num2 = 15\n",
        "\n",
        "print(\"and operator\", num1 >= 10 and num2 < 20)\n",
        "print(\"or operator\", num1 >= 10 or num2 < 20)\n",
        "print(\"not operator\", not(num1 >= 10 and num2 < 20))"
      ],
      "metadata": {
        "colab": {
          "base_uri": "https://localhost:8080/"
        },
        "id": "JufS4I5S4Ch5",
        "outputId": "1c9159ef-3f3d-4173-ceb8-de202724b19d"
      },
      "execution_count": 19,
      "outputs": [
        {
          "output_type": "stream",
          "name": "stdout",
          "text": [
            "and operator True\n",
            "or operator True\n",
            "not operator False\n"
          ]
        }
      ]
    },
    {
      "cell_type": "code",
      "source": [
        "#Q9. Write a Python program to convert user input from string to integer, float, and boolean types?\n",
        "\n",
        "user_input = input(\"Enter a value: \")\n",
        "\n",
        "try:\n",
        "    int_value = int(user_input) # Convert to integer\n",
        "    print(\"Integer:\", int_value)\n",
        "except ValueError:\n",
        "    print(\"Cannot convert to Integer.\")\n",
        "\n",
        "try:\n",
        "    float_value = float(user_input) # Convert to float\n",
        "    print(\"Float:\", float_value)\n",
        "except ValueError:\n",
        "    print(\"Cannot convert to Float.\")\n",
        "\n",
        "bool_value = bool(user_input) # Convert to boolean\n",
        "print(\"Boolean:\", bool_value)\n"
      ],
      "metadata": {
        "colab": {
          "base_uri": "https://localhost:8080/"
        },
        "id": "P3krSGPF43MO",
        "outputId": "ac74cad9-8189-4dff-a96d-3c7498f2a262"
      },
      "execution_count": 20,
      "outputs": [
        {
          "output_type": "stream",
          "name": "stdout",
          "text": [
            "Enter a value: 45\n",
            "Integer: 45\n",
            "Float: 45.0\n",
            "Boolean: True\n"
          ]
        }
      ]
    },
    {
      "cell_type": "code",
      "source": [
        "#Q10. Write code to demonstrate type casting with list elements?\n",
        "\n",
        "str_list = [\"10\", \"20\", \"30\", \"40\"]\n",
        "\n",
        "print(\"Original list (strings):\", str_list)\n",
        "\n",
        "\n",
        "int_list = [int(x) for x in str_list] # Convert all elements to integers\n",
        "print(\"List after casting to integers:\", int_list)\n",
        "\n",
        "\n",
        "float_list = [float(x) for x in str_list] # Convert all elements to floats\n",
        "print(\"List after casting to floats:\", float_list)\n",
        "\n",
        "bool_list = [bool(x) for x in str_list]  # All non-empty strings become True\n",
        "print(\"List after casting to booleans:\", bool_list)\n"
      ],
      "metadata": {
        "colab": {
          "base_uri": "https://localhost:8080/"
        },
        "id": "m7KbkOoo5gKY",
        "outputId": "b3e363e3-fc96-4096-af8c-ae99054e72b2"
      },
      "execution_count": 21,
      "outputs": [
        {
          "output_type": "stream",
          "name": "stdout",
          "text": [
            "Original list (strings): ['10', '20', '30', '40']\n",
            "List after casting to integers: [10, 20, 30, 40]\n",
            "List after casting to floats: [10.0, 20.0, 30.0, 40.0]\n",
            "List after casting to booleans: [True, True, True, True]\n"
          ]
        }
      ]
    },
    {
      "cell_type": "code",
      "source": [
        "#Q11. Write a program that checks if a number is positive, negative, or zero?\n",
        "\n",
        "num = float(input(\"Enter a number: \"))\n",
        "\n",
        "if num > 0:\n",
        "    print(\"The number is Positive.\")\n",
        "elif num < 0:\n",
        "    print(\"The number is Negative.\")\n",
        "else:\n",
        "    print(\"The number is Zero.\")"
      ],
      "metadata": {
        "colab": {
          "base_uri": "https://localhost:8080/"
        },
        "id": "q3yc1Ane6B7D",
        "outputId": "45464ea8-599d-4072-f055-681898657d36"
      },
      "execution_count": 22,
      "outputs": [
        {
          "output_type": "stream",
          "name": "stdout",
          "text": [
            "Enter a number: -6\n",
            "The number is Negative.\n"
          ]
        }
      ]
    },
    {
      "cell_type": "code",
      "source": [
        "#Q12. Write a for loop to print numbers from 1 to 10?\n",
        "\n",
        "for i in range(1, 11):\n",
        "    print(i)"
      ],
      "metadata": {
        "colab": {
          "base_uri": "https://localhost:8080/"
        },
        "id": "B92GhqUB6kmo",
        "outputId": "d2d2d1e7-06e0-4396-d8bf-af5a648d0ce1"
      },
      "execution_count": 23,
      "outputs": [
        {
          "output_type": "stream",
          "name": "stdout",
          "text": [
            "1\n",
            "2\n",
            "3\n",
            "4\n",
            "5\n",
            "6\n",
            "7\n",
            "8\n",
            "9\n",
            "10\n"
          ]
        }
      ]
    },
    {
      "cell_type": "code",
      "source": [
        "#Q13. Write a Python program to find the sum of all even numbers between 1 and 50?\n",
        "\n",
        "sum_even = 0\n",
        "for i in range(2, 51, 2):  # Start at 2, go till 50, step by 2\n",
        "    sum_even += i\n",
        "\n",
        "print(\"Sum of even numbers between 1 and 50:\", sum_even)"
      ],
      "metadata": {
        "colab": {
          "base_uri": "https://localhost:8080/"
        },
        "id": "YxBJRiIs61o1",
        "outputId": "2210f8ee-2072-4ad1-bfc9-d9c6f570206e"
      },
      "execution_count": 24,
      "outputs": [
        {
          "output_type": "stream",
          "name": "stdout",
          "text": [
            "Sum of even numbers between 1 and 50: 650\n"
          ]
        }
      ]
    },
    {
      "cell_type": "code",
      "source": [
        "#Q14. Write a program to reverse a string using a while loop?\n",
        "\n",
        "text = input(\"Enter a string: \")\n",
        "\n",
        "reversed_text = \"\"\n",
        "index = len(text) - 1  # Start from last character\n",
        "\n",
        "while index >= 0:\n",
        "    reversed_text += text[index]\n",
        "    index -= 1\n",
        "\n",
        "print(\"Reversed string:\", reversed_text)\n"
      ],
      "metadata": {
        "colab": {
          "base_uri": "https://localhost:8080/"
        },
        "id": "pKiVLcnD7Gwc",
        "outputId": "9b6052fe-5474-4105-9987-24c333feab95"
      },
      "execution_count": 25,
      "outputs": [
        {
          "output_type": "stream",
          "name": "stdout",
          "text": [
            "Enter a string: My name is Sanjay and I am an Engineer\n",
            "Reversed string: reenignE na ma I dna yajnaS si eman yM\n"
          ]
        }
      ]
    },
    {
      "cell_type": "code",
      "source": [
        "#Q15. Write a Python program to calculate the factorial of a number provided by the user using a while loop?\n",
        "\n",
        "num = int(input(\"Enter a number: \"))\n",
        "\n",
        "factorial = 1\n",
        "i = 1\n",
        "\n",
        "while i <= num:\n",
        "    factorial *= i\n",
        "    i += 1\n",
        "\n",
        "print(f\"Factorial of {num} is {factorial}\")\n"
      ],
      "metadata": {
        "colab": {
          "base_uri": "https://localhost:8080/"
        },
        "id": "2-NyqMTV7lW7",
        "outputId": "562db80d-46b8-4b80-a170-443069a233bf"
      },
      "execution_count": 26,
      "outputs": [
        {
          "output_type": "stream",
          "name": "stdout",
          "text": [
            "Enter a number: 6\n",
            "Factorial of 6 is 720\n"
          ]
        }
      ]
    }
  ]
}